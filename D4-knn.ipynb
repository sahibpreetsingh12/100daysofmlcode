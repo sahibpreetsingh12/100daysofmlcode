{
 "cells": [
  {
   "cell_type": "code",
   "execution_count": 104,
   "id": "textile-gamma",
   "metadata": {},
   "outputs": [],
   "source": [
    "import numpy as np\n",
    "import pandas as pd\n",
    "\n",
    "# loading data\n",
    "from sklearn.metrics import accuracy_score\n",
    "from sklearn.datasets import load_wine\n",
    "from sklearn.metrics import accuracy_score\n",
    "from sklearn.model_selection import train_test_split\n",
    "\n",
    "from numpy.random import randint\n",
    "#Loading the Data\n",
    "data= load_wine()\n",
    " \n",
    "# Store features matrix in X\n",
    "X= data.data\n",
    "#Store target vector in \n",
    "y= data.target\n",
    " \n",
    "X_train, X_test, y_train, y_test = train_test_split(  X, y, test_size=0.33, random_state=42)"
   ]
  },
  {
   "cell_type": "code",
   "execution_count": 114,
   "id": "later-waterproof",
   "metadata": {},
   "outputs": [
    {
     "name": "stdout",
     "output_type": "stream",
     "text": [
      "0.7457627118644068\n"
     ]
    }
   ],
   "source": [
    "class KNN:\n",
    "    def __init__(self,n_neighbours=3):\n",
    "        self.n_neighbours = n_neighbours\n",
    "        self.top_k = []\n",
    "        self.x = []\n",
    "        self.y = []\n",
    "        self.distances = []\n",
    "        \n",
    "    \n",
    "    def load(self,x,y):\n",
    "        \n",
    "            if type(x) == np.ndarray and len(x.shape)>1 and type(y) == np.ndarray  :\n",
    "                if x.shape[0]==y.shape[0]:\n",
    "                    self.x = x\n",
    "                    self.y = y  \n",
    "                else:\n",
    "                    raise ValueError('Number of rows do not match for X and Y' )\n",
    "            else:\n",
    "                raise ValueError('Input Data not in Valid Format. Type should be N dimensional Numpy array')\n",
    "                \n",
    "    def predict(self,test_data):\n",
    "        \n",
    "        if type(test_data)==np.ndarray and test_data.shape[1]==self.x.shape[1]:\n",
    "            \n",
    "            prediction=[]\n",
    "            \n",
    "            for t in range(test_data.shape[0]):\n",
    "                \n",
    "                # Euclidean distance of test data point wrt to all Training rows\n",
    "                ls = [ np.linalg.norm(self.x[i]-test_data[t]) for i in range(self.x.shape[0]) ]      \n",
    "                \n",
    "                # indexes of top k predictions\n",
    "                top_k_index = np.argsort(ls)\n",
    "\n",
    "                # slicing top k predictions\n",
    "                self.top_k = self.y[top_k_index[:self.n_neighbours]]\n",
    "\n",
    "                # converting np array of shape (n,1) to (n,)\n",
    "                self.top_k =  self.top_k.reshape(self.top_k.shape[0])\n",
    "#                 print(self.top_k)\n",
    "                prediction.append(np.bincount(self.top_k).argmax())\n",
    "                \n",
    "            return prediction\n",
    "        else:\n",
    "            raise ValueError('Test Data dimensions don\\'t match with dimensions of Training data')\n",
    "            \n",
    "f = KNN(n_neighbours=50)\n",
    "f.load(X_train,y_train)\n",
    "prediction=f.predict(X_test)\n",
    "print(accuracy_score(y_test,prediction))\n"
   ]
  },
  {
   "cell_type": "markdown",
   "id": "stylish-freeware",
   "metadata": {},
   "source": [
    "### Sklearn's KNN"
   ]
  },
  {
   "cell_type": "code",
   "execution_count": 115,
   "id": "accepting-victory",
   "metadata": {},
   "outputs": [
    {
     "name": "stdout",
     "output_type": "stream",
     "text": [
      "0.7457627118644068\n"
     ]
    }
   ],
   "source": [
    "from sklearn.neighbors import KNeighborsClassifier\n",
    "neigh = KNeighborsClassifier(n_neighbors=50)\n",
    "neigh.fit(X_train,y_train)\n",
    "p=neigh.predict(X_test)\n",
    "\n",
    "print(accuracy_score(y_test,p))"
   ]
  }
 ],
 "metadata": {
  "kernelspec": {
   "display_name": "Python 3.8.2 64-bit",
   "language": "python",
   "name": "python38264bita03373cad2404f55bdc5db0285b9fbe0"
  },
  "language_info": {
   "codemirror_mode": {
    "name": "ipython",
    "version": 3
   },
   "file_extension": ".py",
   "mimetype": "text/x-python",
   "name": "python",
   "nbconvert_exporter": "python",
   "pygments_lexer": "ipython3",
   "version": "3.8.5"
  }
 },
 "nbformat": 4,
 "nbformat_minor": 5
}
