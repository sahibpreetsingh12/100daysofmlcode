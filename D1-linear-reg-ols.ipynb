{
 "cells": [
  {
   "cell_type": "code",
   "execution_count": 38,
   "id": "herbal-stroke",
   "metadata": {},
   "outputs": [],
   "source": [
    "# LINEAR REGRESSION USING ORDINARY LEAST SQUARES\n",
    "\n",
    "\n",
    "# OLS = Ordinaryleastsquares\n",
    "\n",
    "class Ordinaryleastsquares():\n",
    "    \n",
    "    def __init__(self):\n",
    "        \n",
    "        # list to store coef's we'll get after OLS\n",
    "        self.coefs = [] \n",
    "    \n",
    "    \n",
    "    # Function  -- >  if we are passing only 1D array of fetaures we would like to convert that \n",
    "    #                 list to Two Dimensional Input for processing\n",
    "    \n",
    "    def reshape_input(self,X):\n",
    "        \n",
    "        return X.reshape(-1,1)  \n",
    "    \n",
    "    def concat_ones(self,X):\n",
    "        \n",
    "        # if we have n rows in dataset we will create a Numpy Ones array of shape (n,1)\n",
    "       \n",
    "        ones = np.ones(shape = X.shape[0]).reshape(-1,1)\n",
    "       \n",
    "        return np.concatenate((ones,X),axis=1)\n",
    "    \n",
    "    def forward(self,X,y):\n",
    "        \n",
    "        if len(X.shape) == 1: \n",
    "            X = self.reshape_input(X)\n",
    "        \n",
    "        X = self.concat_ones(X)\n",
    "        \n",
    "        \n",
    "        # formula \n",
    "        \n",
    "        # link https://towardsdatascience.com/multiple-linear-regression-from-scratch-in-numpy-36a3e8ac8014\n",
    "        self.coefs = np.linalg.inv(X.transpose().dot(X)).dot(X.transpose()).dot(y)\n",
    "        \n",
    "    def predict(self,data):\n",
    "        \n",
    "        b0 = self.coefs[0]\n",
    "        \n",
    "        other_coefs = self.coefs[1:]\n",
    "        \n",
    "        prediction = b0\n",
    "        \n",
    "        for i,j in zip(data,other_coefs):\n",
    "            \n",
    "            prediction += i*j\n",
    "            \n",
    "        return prediction"
   ]
  },
  {
   "cell_type": "code",
   "execution_count": 39,
   "id": "nasty-heaven",
   "metadata": {},
   "outputs": [],
   "source": [
    "import pandas as  pd\n",
    "import numpy as np\n",
    "df = pd.read_csv('PYTORCH_NOTEBOOKS/Data/iris.csv')\n",
    "\n",
    "input_features = [col for col in list(df.columns) if col!='target']\n",
    "\n",
    "X = df[input_features].values\n",
    "y =df['target'].values\n"
   ]
  },
  {
   "cell_type": "code",
   "execution_count": 40,
   "id": "infinite-blackjack",
   "metadata": {},
   "outputs": [],
   "source": [
    "model = Ordinaryleastsquares()\n",
    "\n",
    "model.forward(X,y)"
   ]
  },
  {
   "cell_type": "code",
   "execution_count": 41,
   "id": "rapid-ethics",
   "metadata": {},
   "outputs": [
    {
     "data": {
      "text/plain": [
       "array([ 0.19208399, -0.10974146, -0.04424045,  0.22700138,  0.60989412])"
      ]
     },
     "execution_count": 41,
     "metadata": {},
     "output_type": "execute_result"
    }
   ],
   "source": [
    "model.coefs"
   ]
  },
  {
   "cell_type": "code",
   "execution_count": 42,
   "id": "human-transportation",
   "metadata": {},
   "outputs": [
    {
     "name": "stdout",
     "output_type": "stream",
     "text": [
      "2.0\n"
     ]
    },
    {
     "data": {
      "text/plain": [
       "1.591379758075804"
      ]
     },
     "execution_count": 42,
     "metadata": {},
     "output_type": "execute_result"
    }
   ],
   "source": [
    "print(y[123])\n",
    "model.predict(X[123])"
   ]
  }
 ],
 "metadata": {
  "kernelspec": {
   "display_name": "Python 3.8.2 64-bit",
   "language": "python",
   "name": "python38264bita03373cad2404f55bdc5db0285b9fbe0"
  },
  "language_info": {
   "codemirror_mode": {
    "name": "ipython",
    "version": 3
   },
   "file_extension": ".py",
   "mimetype": "text/x-python",
   "name": "python",
   "nbconvert_exporter": "python",
   "pygments_lexer": "ipython3",
   "version": "3.8.5"
  }
 },
 "nbformat": 4,
 "nbformat_minor": 5
}
