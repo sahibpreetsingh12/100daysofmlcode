{
 "cells": [
  {
   "cell_type": "code",
   "execution_count": 38,
   "id": "precious-pharmaceutical",
   "metadata": {},
   "outputs": [],
   "source": [
    "#import required modules\n",
    "\n",
    "\n",
    "import warnings\n",
    "warnings.filterwarnings('ignore' )\n",
    "\n",
    "\n",
    "import numpy as np\n",
    " \n",
    "class LogisticRegression:\n",
    "    def __init__(self,x,y):      \n",
    "        self.intercept = np.ones((x.shape[0], 1))  \n",
    "        self.x = np.concatenate((self.intercept, x), axis=1)\n",
    "        self.weight = np.zeros(self.x.shape[1])\n",
    "        self.y = y\n",
    "         \n",
    "    #Sigmoid method\n",
    "    def sigmoid(self, x, weight):\n",
    "        z = np.dot(x, weight)\n",
    "        return 1 / (1 + np.exp(-z))\n",
    "     \n",
    "    #method to calculate the Loss\n",
    "    # h- predicted value\n",
    "    # y- true value\n",
    "    def loss(self, h, y):\n",
    "        return (-y * np.log(h) - (1 - y) * np.log(1 - h)).mean()\n",
    "     \n",
    "    #Method for calculating the gradients\n",
    "    def gradient_descent(self, X, h, y):\n",
    "        return np.dot(X.T, (h - y)) / y.shape[0]\n",
    " \n",
    "     \n",
    "    def fit(self, lr , iterations):\n",
    "      \n",
    "        # this is batch gradient descent\n",
    "        for i in range(iterations):\n",
    "            if i==0:\n",
    "                print(\"For first epochs weights are \",self.weight,\"\\n\")\n",
    "            z = self.sigmoid(self.x, self.weight)\n",
    "             \n",
    "            loss = self.loss(z,self.y)\n",
    " \n",
    "            delta_w = self.gradient_descent(self.x , z, self.y)\n",
    "             \n",
    "            #Updating the weights\n",
    "            self.weight -= lr * delta_w\n",
    " \n",
    "        return print('fitted successfully to data',\"\\n\")\n",
    "     \n",
    "    #Method to predict the class label.\n",
    "    def predict(self, x_new , treshold):\n",
    "        x_new = np.concatenate((self.intercept, x_new), axis=1)\n",
    "        result = self.sigmoid(x_new, self.weight)\n",
    "        result = result >= treshold\n",
    "        y_pred = np.zeros(result.shape[0])\n",
    "        for i in range(len(y_pred)):\n",
    "            if result[i] == True: \n",
    "                y_pred[i] = 1\n",
    "            else:\n",
    "                continue\n",
    "                 \n",
    "        return y_pred"
   ]
  },
  {
   "cell_type": "code",
   "execution_count": 40,
   "id": "determined-things",
   "metadata": {},
   "outputs": [
    {
     "name": "stdout",
     "output_type": "stream",
     "text": [
      "For first epochs weights are  [0. 0. 0. 0. 0. 0. 0. 0. 0. 0. 0. 0. 0. 0. 0. 0. 0. 0. 0. 0. 0. 0. 0. 0.\n",
      " 0. 0. 0. 0. 0. 0. 0.] \n",
      "\n",
      "fitted successfully to data \n",
      "\n",
      "accuracy -> 0.9103690685413005\n",
      "CPU times: user 5.77 s, sys: 0 ns, total: 5.77 s\n",
      "Wall time: 5.77 s\n"
     ]
    }
   ],
   "source": [
    "%%time\n",
    "from sklearn.datasets import load_breast_cancer\n",
    " \n",
    "#Loading the data\n",
    "data = load_breast_cancer()\n",
    " \n",
    "#Preparing the data\n",
    "x = data.data\n",
    "y = data.target\n",
    " \n",
    "#creating the class Object\n",
    "regressor = LogisticRegression(x,y)\n",
    " \n",
    "#\n",
    "regressor.fit(0.001 , 50000)\n",
    " \n",
    "y_pred = regressor.predict(x,0.5)\n",
    " \n",
    "print('accuracy -> {}'.format(sum(y_pred == y) / y.shape[0]))"
   ]
  }
 ],
 "metadata": {
  "kernelspec": {
   "display_name": "Python 3.8.5 64-bit",
   "language": "python",
   "name": "python385jvsc74a57bd0916dbcbb3f70747c44a77c7bcd40155683ae19c65e1c03b4aa3499c5328201f1"
  },
  "language_info": {
   "codemirror_mode": {
    "name": "ipython",
    "version": 3
   },
   "file_extension": ".py",
   "mimetype": "text/x-python",
   "name": "python",
   "nbconvert_exporter": "python",
   "pygments_lexer": "ipython3",
   "version": "3.8.5"
  }
 },
 "nbformat": 4,
 "nbformat_minor": 5
}
