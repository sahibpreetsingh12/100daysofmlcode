{
 "cells": [
  {
   "cell_type": "markdown",
   "id": "affiliated-success",
   "metadata": {},
   "source": [
    "Bubble Sort goes through n-1 iterations, looking at n-1 pairs of adjacent elements. This gives it the time complexity of O(n2), in both best-case and average-case situations. O(n2) is considered pretty horrible for a sorting algorithm.\n",
    "\n",
    "It does have an O(1) space complexity, but that isn't enough to compensate for its shortcomings in other fields."
   ]
  },
  {
   "cell_type": "code",
   "execution_count": 10,
   "id": "first-payment",
   "metadata": {},
   "outputs": [],
   "source": [
    "def bubble_sort(ls):\n",
    "    _swapped = True\n",
    "\n",
    "    num_of_iterations = 0\n",
    "\n",
    "    while(_swapped):\n",
    "        _swapped = False\n",
    "        for i in range(len(ls) - num_of_iterations - 1):\n",
    "            if ls[i] > ls[i+1]:\n",
    "                # Swap\n",
    "                ls[i], ls[i+1] = ls[i+1], ls[i]\n",
    "                _swapped = True\n",
    "        num_of_iterations += 1\n",
    "\n",
    "    return ls\n",
    "import random\n",
    "ls= random.sample(range(1, 10000),1000)\n",
    "bubble_sort()"
   ]
  }
 ],
 "metadata": {
  "kernelspec": {
   "display_name": "Python 3.8.2 64-bit",
   "language": "python",
   "name": "python38264bita03373cad2404f55bdc5db0285b9fbe0"
  },
  "language_info": {
   "codemirror_mode": {
    "name": "ipython",
    "version": 3
   },
   "file_extension": ".py",
   "mimetype": "text/x-python",
   "name": "python",
   "nbconvert_exporter": "python",
   "pygments_lexer": "ipython3",
   "version": "3.8.5"
  }
 },
 "nbformat": 4,
 "nbformat_minor": 5
}
